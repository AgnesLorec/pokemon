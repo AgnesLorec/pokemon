{
  "nbformat": 4,
  "nbformat_minor": 0,
  "metadata": {
    "colab": {
      "name": "AL_Challenge_Pokemon.ipynb",
      "provenance": [],
      "collapsed_sections": [],
      "authorship_tag": "ABX9TyNeOLPyHwJ9Hsx+Ph9dogou"
    },
    "kernelspec": {
      "name": "python3",
      "display_name": "Python 3"
    }
  },
  "cells": [
    {
      "cell_type": "markdown",
      "metadata": {
        "id": "8XPdDkWJ03Ec"
      },
      "source": [
        "#Import des bibliothèques"
      ]
    },
    {
      "cell_type": "code",
      "metadata": {
        "id": "EfQwKjJKs45P"
      },
      "source": [
        "import pandas as pd\n",
        "\n",
        "from sklearn.preprocessing import StandardScaler\n",
        "from sklearn.cluster import KMeans\n",
        "from sklearn.metrics import silhouette_score\n",
        "\n",
        "from sklearn.model_selection import train_test_split\n",
        "from sklearn.neighbors import KNeighborsClassifier\n",
        "from sklearn.metrics import accuracy_score, confusion_matrix\n",
        "from sklearn.preprocessing import StandardScaler\n",
        "\n",
        "import seaborn as sns\n",
        "import matplotlib.pyplot as plt"
      ],
      "execution_count": null,
      "outputs": []
    },
    {
      "cell_type": "markdown",
      "metadata": {
        "id": "05__2Sc43Wex"
      },
      "source": [
        "#Import de la DB"
      ]
    },
    {
      "cell_type": "code",
      "metadata": {
        "colab": {
          "base_uri": "https://localhost:8080/"
        },
        "id": "B_zY-8Iau0Q3",
        "outputId": "722e929e-c0cf-481d-d029-fcfa34ec18f3"
      },
      "source": [
        "from google.colab import drive\n",
        "drive.mount('/content/drive')"
      ],
      "execution_count": null,
      "outputs": [
        {
          "output_type": "stream",
          "text": [
            "Drive already mounted at /content/drive; to attempt to forcibly remount, call drive.mount(\"/content/drive\", force_remount=True).\n"
          ],
          "name": "stdout"
        }
      ]
    },
    {
      "cell_type": "code",
      "metadata": {
        "id": "hOj9BoK7s9ym"
      },
      "source": [
        "df_pokemon = pd.read_csv('/content/drive/MyDrive/Python/Machine learning/pokemon.csv')"
      ],
      "execution_count": null,
      "outputs": []
    },
    {
      "cell_type": "code",
      "metadata": {
        "colab": {
          "base_uri": "https://localhost:8080/",
          "height": 287
        },
        "id": "4nOY5kBF01oF",
        "outputId": "4b2b7606-8ba6-4a54-f3b3-62c5860809fd"
      },
      "source": [
        "df_pokemon.sample(8)"
      ],
      "execution_count": null,
      "outputs": [
        {
          "output_type": "execute_result",
          "data": {
            "text/html": [
              "<div>\n",
              "<style scoped>\n",
              "    .dataframe tbody tr th:only-of-type {\n",
              "        vertical-align: middle;\n",
              "    }\n",
              "\n",
              "    .dataframe tbody tr th {\n",
              "        vertical-align: top;\n",
              "    }\n",
              "\n",
              "    .dataframe thead th {\n",
              "        text-align: right;\n",
              "    }\n",
              "</style>\n",
              "<table border=\"1\" class=\"dataframe\">\n",
              "  <thead>\n",
              "    <tr style=\"text-align: right;\">\n",
              "      <th></th>\n",
              "      <th>#</th>\n",
              "      <th>Name</th>\n",
              "      <th>Type 1</th>\n",
              "      <th>Type 2</th>\n",
              "      <th>HP</th>\n",
              "      <th>Attack</th>\n",
              "      <th>Defense</th>\n",
              "      <th>Sp. Atk</th>\n",
              "      <th>Sp. Def</th>\n",
              "      <th>Speed</th>\n",
              "      <th>Generation</th>\n",
              "      <th>Legendary</th>\n",
              "    </tr>\n",
              "  </thead>\n",
              "  <tbody>\n",
              "    <tr>\n",
              "      <th>519</th>\n",
              "      <td>520</td>\n",
              "      <td>Togekiss</td>\n",
              "      <td>Fairy</td>\n",
              "      <td>Flying</td>\n",
              "      <td>85</td>\n",
              "      <td>50</td>\n",
              "      <td>95</td>\n",
              "      <td>120</td>\n",
              "      <td>115</td>\n",
              "      <td>80</td>\n",
              "      <td>4</td>\n",
              "      <td>False</td>\n",
              "    </tr>\n",
              "    <tr>\n",
              "      <th>773</th>\n",
              "      <td>774</td>\n",
              "      <td>Carbink</td>\n",
              "      <td>Rock</td>\n",
              "      <td>Fairy</td>\n",
              "      <td>50</td>\n",
              "      <td>50</td>\n",
              "      <td>150</td>\n",
              "      <td>50</td>\n",
              "      <td>150</td>\n",
              "      <td>50</td>\n",
              "      <td>6</td>\n",
              "      <td>False</td>\n",
              "    </tr>\n",
              "    <tr>\n",
              "      <th>240</th>\n",
              "      <td>241</td>\n",
              "      <td>Corsola</td>\n",
              "      <td>Water</td>\n",
              "      <td>Rock</td>\n",
              "      <td>55</td>\n",
              "      <td>55</td>\n",
              "      <td>85</td>\n",
              "      <td>65</td>\n",
              "      <td>85</td>\n",
              "      <td>35</td>\n",
              "      <td>2</td>\n",
              "      <td>False</td>\n",
              "    </tr>\n",
              "    <tr>\n",
              "      <th>652</th>\n",
              "      <td>653</td>\n",
              "      <td>Amoonguss</td>\n",
              "      <td>Grass</td>\n",
              "      <td>Poison</td>\n",
              "      <td>114</td>\n",
              "      <td>85</td>\n",
              "      <td>70</td>\n",
              "      <td>85</td>\n",
              "      <td>80</td>\n",
              "      <td>30</td>\n",
              "      <td>5</td>\n",
              "      <td>False</td>\n",
              "    </tr>\n",
              "    <tr>\n",
              "      <th>141</th>\n",
              "      <td>142</td>\n",
              "      <td>Mega Gyarados</td>\n",
              "      <td>Water</td>\n",
              "      <td>Dark</td>\n",
              "      <td>95</td>\n",
              "      <td>155</td>\n",
              "      <td>109</td>\n",
              "      <td>70</td>\n",
              "      <td>130</td>\n",
              "      <td>81</td>\n",
              "      <td>1</td>\n",
              "      <td>False</td>\n",
              "    </tr>\n",
              "    <tr>\n",
              "      <th>253</th>\n",
              "      <td>254</td>\n",
              "      <td>Stantler</td>\n",
              "      <td>Normal</td>\n",
              "      <td>NaN</td>\n",
              "      <td>73</td>\n",
              "      <td>95</td>\n",
              "      <td>62</td>\n",
              "      <td>85</td>\n",
              "      <td>65</td>\n",
              "      <td>85</td>\n",
              "      <td>2</td>\n",
              "      <td>False</td>\n",
              "    </tr>\n",
              "    <tr>\n",
              "      <th>513</th>\n",
              "      <td>514</td>\n",
              "      <td>Magnezone</td>\n",
              "      <td>Electric</td>\n",
              "      <td>Steel</td>\n",
              "      <td>70</td>\n",
              "      <td>70</td>\n",
              "      <td>115</td>\n",
              "      <td>130</td>\n",
              "      <td>90</td>\n",
              "      <td>60</td>\n",
              "      <td>4</td>\n",
              "      <td>False</td>\n",
              "    </tr>\n",
              "    <tr>\n",
              "      <th>186</th>\n",
              "      <td>187</td>\n",
              "      <td>Pichu</td>\n",
              "      <td>Electric</td>\n",
              "      <td>NaN</td>\n",
              "      <td>20</td>\n",
              "      <td>40</td>\n",
              "      <td>15</td>\n",
              "      <td>35</td>\n",
              "      <td>35</td>\n",
              "      <td>60</td>\n",
              "      <td>2</td>\n",
              "      <td>False</td>\n",
              "    </tr>\n",
              "  </tbody>\n",
              "</table>\n",
              "</div>"
            ],
            "text/plain": [
              "       #           Name    Type 1  ... Speed  Generation  Legendary\n",
              "519  520       Togekiss     Fairy  ...    80           4      False\n",
              "773  774        Carbink      Rock  ...    50           6      False\n",
              "240  241        Corsola     Water  ...    35           2      False\n",
              "652  653      Amoonguss     Grass  ...    30           5      False\n",
              "141  142  Mega Gyarados     Water  ...    81           1      False\n",
              "253  254       Stantler    Normal  ...    85           2      False\n",
              "513  514      Magnezone  Electric  ...    60           4      False\n",
              "186  187          Pichu  Electric  ...    60           2      False\n",
              "\n",
              "[8 rows x 12 columns]"
            ]
          },
          "metadata": {
            "tags": []
          },
          "execution_count": 316
        }
      ]
    },
    {
      "cell_type": "markdown",
      "metadata": {
        "id": "88gkbh-z1Tit"
      },
      "source": [
        "#Etude de la DB source"
      ]
    },
    {
      "cell_type": "code",
      "metadata": {
        "colab": {
          "base_uri": "https://localhost:8080/"
        },
        "id": "M14TcTAk1XuI",
        "outputId": "9442ed4e-f672-4f03-a911-382a5c513eeb"
      },
      "source": [
        "df_pokemon.info()"
      ],
      "execution_count": null,
      "outputs": [
        {
          "output_type": "stream",
          "text": [
            "<class 'pandas.core.frame.DataFrame'>\n",
            "RangeIndex: 800 entries, 0 to 799\n",
            "Data columns (total 12 columns):\n",
            " #   Column      Non-Null Count  Dtype \n",
            "---  ------      --------------  ----- \n",
            " 0   #           800 non-null    int64 \n",
            " 1   Name        799 non-null    object\n",
            " 2   Type 1      800 non-null    object\n",
            " 3   Type 2      414 non-null    object\n",
            " 4   HP          800 non-null    int64 \n",
            " 5   Attack      800 non-null    int64 \n",
            " 6   Defense     800 non-null    int64 \n",
            " 7   Sp. Atk     800 non-null    int64 \n",
            " 8   Sp. Def     800 non-null    int64 \n",
            " 9   Speed       800 non-null    int64 \n",
            " 10  Generation  800 non-null    int64 \n",
            " 11  Legendary   800 non-null    bool  \n",
            "dtypes: bool(1), int64(8), object(3)\n",
            "memory usage: 69.7+ KB\n"
          ],
          "name": "stdout"
        }
      ]
    },
    {
      "cell_type": "code",
      "metadata": {
        "colab": {
          "base_uri": "https://localhost:8080/",
          "height": 377
        },
        "id": "P0U6a5Bc1grp",
        "outputId": "8709f13b-1c00-4d25-82c5-6e8d244b850f"
      },
      "source": [
        "df_pokemon.describe(include='all')"
      ],
      "execution_count": null,
      "outputs": [
        {
          "output_type": "execute_result",
          "data": {
            "text/html": [
              "<div>\n",
              "<style scoped>\n",
              "    .dataframe tbody tr th:only-of-type {\n",
              "        vertical-align: middle;\n",
              "    }\n",
              "\n",
              "    .dataframe tbody tr th {\n",
              "        vertical-align: top;\n",
              "    }\n",
              "\n",
              "    .dataframe thead th {\n",
              "        text-align: right;\n",
              "    }\n",
              "</style>\n",
              "<table border=\"1\" class=\"dataframe\">\n",
              "  <thead>\n",
              "    <tr style=\"text-align: right;\">\n",
              "      <th></th>\n",
              "      <th>#</th>\n",
              "      <th>Name</th>\n",
              "      <th>Type 1</th>\n",
              "      <th>Type 2</th>\n",
              "      <th>HP</th>\n",
              "      <th>Attack</th>\n",
              "      <th>Defense</th>\n",
              "      <th>Sp. Atk</th>\n",
              "      <th>Sp. Def</th>\n",
              "      <th>Speed</th>\n",
              "      <th>Generation</th>\n",
              "      <th>Legendary</th>\n",
              "    </tr>\n",
              "  </thead>\n",
              "  <tbody>\n",
              "    <tr>\n",
              "      <th>count</th>\n",
              "      <td>800.0000</td>\n",
              "      <td>799</td>\n",
              "      <td>800</td>\n",
              "      <td>414</td>\n",
              "      <td>800.000000</td>\n",
              "      <td>800.000000</td>\n",
              "      <td>800.000000</td>\n",
              "      <td>800.000000</td>\n",
              "      <td>800.000000</td>\n",
              "      <td>800.000000</td>\n",
              "      <td>800.00000</td>\n",
              "      <td>800</td>\n",
              "    </tr>\n",
              "    <tr>\n",
              "      <th>unique</th>\n",
              "      <td>NaN</td>\n",
              "      <td>799</td>\n",
              "      <td>18</td>\n",
              "      <td>18</td>\n",
              "      <td>NaN</td>\n",
              "      <td>NaN</td>\n",
              "      <td>NaN</td>\n",
              "      <td>NaN</td>\n",
              "      <td>NaN</td>\n",
              "      <td>NaN</td>\n",
              "      <td>NaN</td>\n",
              "      <td>2</td>\n",
              "    </tr>\n",
              "    <tr>\n",
              "      <th>top</th>\n",
              "      <td>NaN</td>\n",
              "      <td>Linoone</td>\n",
              "      <td>Water</td>\n",
              "      <td>Flying</td>\n",
              "      <td>NaN</td>\n",
              "      <td>NaN</td>\n",
              "      <td>NaN</td>\n",
              "      <td>NaN</td>\n",
              "      <td>NaN</td>\n",
              "      <td>NaN</td>\n",
              "      <td>NaN</td>\n",
              "      <td>False</td>\n",
              "    </tr>\n",
              "    <tr>\n",
              "      <th>freq</th>\n",
              "      <td>NaN</td>\n",
              "      <td>1</td>\n",
              "      <td>112</td>\n",
              "      <td>97</td>\n",
              "      <td>NaN</td>\n",
              "      <td>NaN</td>\n",
              "      <td>NaN</td>\n",
              "      <td>NaN</td>\n",
              "      <td>NaN</td>\n",
              "      <td>NaN</td>\n",
              "      <td>NaN</td>\n",
              "      <td>735</td>\n",
              "    </tr>\n",
              "    <tr>\n",
              "      <th>mean</th>\n",
              "      <td>400.5000</td>\n",
              "      <td>NaN</td>\n",
              "      <td>NaN</td>\n",
              "      <td>NaN</td>\n",
              "      <td>69.258750</td>\n",
              "      <td>79.001250</td>\n",
              "      <td>73.842500</td>\n",
              "      <td>72.820000</td>\n",
              "      <td>71.902500</td>\n",
              "      <td>68.277500</td>\n",
              "      <td>3.32375</td>\n",
              "      <td>NaN</td>\n",
              "    </tr>\n",
              "    <tr>\n",
              "      <th>std</th>\n",
              "      <td>231.0844</td>\n",
              "      <td>NaN</td>\n",
              "      <td>NaN</td>\n",
              "      <td>NaN</td>\n",
              "      <td>25.534669</td>\n",
              "      <td>32.457366</td>\n",
              "      <td>31.183501</td>\n",
              "      <td>32.722294</td>\n",
              "      <td>27.828916</td>\n",
              "      <td>29.060474</td>\n",
              "      <td>1.66129</td>\n",
              "      <td>NaN</td>\n",
              "    </tr>\n",
              "    <tr>\n",
              "      <th>min</th>\n",
              "      <td>1.0000</td>\n",
              "      <td>NaN</td>\n",
              "      <td>NaN</td>\n",
              "      <td>NaN</td>\n",
              "      <td>1.000000</td>\n",
              "      <td>5.000000</td>\n",
              "      <td>5.000000</td>\n",
              "      <td>10.000000</td>\n",
              "      <td>20.000000</td>\n",
              "      <td>5.000000</td>\n",
              "      <td>1.00000</td>\n",
              "      <td>NaN</td>\n",
              "    </tr>\n",
              "    <tr>\n",
              "      <th>25%</th>\n",
              "      <td>200.7500</td>\n",
              "      <td>NaN</td>\n",
              "      <td>NaN</td>\n",
              "      <td>NaN</td>\n",
              "      <td>50.000000</td>\n",
              "      <td>55.000000</td>\n",
              "      <td>50.000000</td>\n",
              "      <td>49.750000</td>\n",
              "      <td>50.000000</td>\n",
              "      <td>45.000000</td>\n",
              "      <td>2.00000</td>\n",
              "      <td>NaN</td>\n",
              "    </tr>\n",
              "    <tr>\n",
              "      <th>50%</th>\n",
              "      <td>400.5000</td>\n",
              "      <td>NaN</td>\n",
              "      <td>NaN</td>\n",
              "      <td>NaN</td>\n",
              "      <td>65.000000</td>\n",
              "      <td>75.000000</td>\n",
              "      <td>70.000000</td>\n",
              "      <td>65.000000</td>\n",
              "      <td>70.000000</td>\n",
              "      <td>65.000000</td>\n",
              "      <td>3.00000</td>\n",
              "      <td>NaN</td>\n",
              "    </tr>\n",
              "    <tr>\n",
              "      <th>75%</th>\n",
              "      <td>600.2500</td>\n",
              "      <td>NaN</td>\n",
              "      <td>NaN</td>\n",
              "      <td>NaN</td>\n",
              "      <td>80.000000</td>\n",
              "      <td>100.000000</td>\n",
              "      <td>90.000000</td>\n",
              "      <td>95.000000</td>\n",
              "      <td>90.000000</td>\n",
              "      <td>90.000000</td>\n",
              "      <td>5.00000</td>\n",
              "      <td>NaN</td>\n",
              "    </tr>\n",
              "    <tr>\n",
              "      <th>max</th>\n",
              "      <td>800.0000</td>\n",
              "      <td>NaN</td>\n",
              "      <td>NaN</td>\n",
              "      <td>NaN</td>\n",
              "      <td>255.000000</td>\n",
              "      <td>190.000000</td>\n",
              "      <td>230.000000</td>\n",
              "      <td>194.000000</td>\n",
              "      <td>230.000000</td>\n",
              "      <td>180.000000</td>\n",
              "      <td>6.00000</td>\n",
              "      <td>NaN</td>\n",
              "    </tr>\n",
              "  </tbody>\n",
              "</table>\n",
              "</div>"
            ],
            "text/plain": [
              "               #     Name Type 1  ...       Speed  Generation  Legendary\n",
              "count   800.0000      799    800  ...  800.000000   800.00000        800\n",
              "unique       NaN      799     18  ...         NaN         NaN          2\n",
              "top          NaN  Linoone  Water  ...         NaN         NaN      False\n",
              "freq         NaN        1    112  ...         NaN         NaN        735\n",
              "mean    400.5000      NaN    NaN  ...   68.277500     3.32375        NaN\n",
              "std     231.0844      NaN    NaN  ...   29.060474     1.66129        NaN\n",
              "min       1.0000      NaN    NaN  ...    5.000000     1.00000        NaN\n",
              "25%     200.7500      NaN    NaN  ...   45.000000     2.00000        NaN\n",
              "50%     400.5000      NaN    NaN  ...   65.000000     3.00000        NaN\n",
              "75%     600.2500      NaN    NaN  ...   90.000000     5.00000        NaN\n",
              "max     800.0000      NaN    NaN  ...  180.000000     6.00000        NaN\n",
              "\n",
              "[11 rows x 12 columns]"
            ]
          },
          "metadata": {
            "tags": []
          },
          "execution_count": 23
        }
      ]
    },
    {
      "cell_type": "code",
      "metadata": {
        "colab": {
          "base_uri": "https://localhost:8080/",
          "height": 317
        },
        "id": "WP1OGdvu1ybN",
        "outputId": "cb6afea9-09ff-4391-e781-b4f7d70e70e1"
      },
      "source": [
        "df_pokemon.corr()"
      ],
      "execution_count": null,
      "outputs": [
        {
          "output_type": "execute_result",
          "data": {
            "text/html": [
              "<div>\n",
              "<style scoped>\n",
              "    .dataframe tbody tr th:only-of-type {\n",
              "        vertical-align: middle;\n",
              "    }\n",
              "\n",
              "    .dataframe tbody tr th {\n",
              "        vertical-align: top;\n",
              "    }\n",
              "\n",
              "    .dataframe thead th {\n",
              "        text-align: right;\n",
              "    }\n",
              "</style>\n",
              "<table border=\"1\" class=\"dataframe\">\n",
              "  <thead>\n",
              "    <tr style=\"text-align: right;\">\n",
              "      <th></th>\n",
              "      <th>#</th>\n",
              "      <th>HP</th>\n",
              "      <th>Attack</th>\n",
              "      <th>Defense</th>\n",
              "      <th>Sp. Atk</th>\n",
              "      <th>Sp. Def</th>\n",
              "      <th>Speed</th>\n",
              "      <th>Generation</th>\n",
              "      <th>Legendary</th>\n",
              "    </tr>\n",
              "  </thead>\n",
              "  <tbody>\n",
              "    <tr>\n",
              "      <th>#</th>\n",
              "      <td>1.000000</td>\n",
              "      <td>0.097712</td>\n",
              "      <td>0.102664</td>\n",
              "      <td>0.094691</td>\n",
              "      <td>0.089199</td>\n",
              "      <td>0.085596</td>\n",
              "      <td>0.012181</td>\n",
              "      <td>0.983428</td>\n",
              "      <td>0.154336</td>\n",
              "    </tr>\n",
              "    <tr>\n",
              "      <th>HP</th>\n",
              "      <td>0.097712</td>\n",
              "      <td>1.000000</td>\n",
              "      <td>0.422386</td>\n",
              "      <td>0.239622</td>\n",
              "      <td>0.362380</td>\n",
              "      <td>0.378718</td>\n",
              "      <td>0.175952</td>\n",
              "      <td>0.058683</td>\n",
              "      <td>0.273620</td>\n",
              "    </tr>\n",
              "    <tr>\n",
              "      <th>Attack</th>\n",
              "      <td>0.102664</td>\n",
              "      <td>0.422386</td>\n",
              "      <td>1.000000</td>\n",
              "      <td>0.438687</td>\n",
              "      <td>0.396362</td>\n",
              "      <td>0.263990</td>\n",
              "      <td>0.381240</td>\n",
              "      <td>0.051451</td>\n",
              "      <td>0.345408</td>\n",
              "    </tr>\n",
              "    <tr>\n",
              "      <th>Defense</th>\n",
              "      <td>0.094691</td>\n",
              "      <td>0.239622</td>\n",
              "      <td>0.438687</td>\n",
              "      <td>1.000000</td>\n",
              "      <td>0.223549</td>\n",
              "      <td>0.510747</td>\n",
              "      <td>0.015227</td>\n",
              "      <td>0.042419</td>\n",
              "      <td>0.246377</td>\n",
              "    </tr>\n",
              "    <tr>\n",
              "      <th>Sp. Atk</th>\n",
              "      <td>0.089199</td>\n",
              "      <td>0.362380</td>\n",
              "      <td>0.396362</td>\n",
              "      <td>0.223549</td>\n",
              "      <td>1.000000</td>\n",
              "      <td>0.506121</td>\n",
              "      <td>0.473018</td>\n",
              "      <td>0.036437</td>\n",
              "      <td>0.448907</td>\n",
              "    </tr>\n",
              "    <tr>\n",
              "      <th>Sp. Def</th>\n",
              "      <td>0.085596</td>\n",
              "      <td>0.378718</td>\n",
              "      <td>0.263990</td>\n",
              "      <td>0.510747</td>\n",
              "      <td>0.506121</td>\n",
              "      <td>1.000000</td>\n",
              "      <td>0.259133</td>\n",
              "      <td>0.028486</td>\n",
              "      <td>0.363937</td>\n",
              "    </tr>\n",
              "    <tr>\n",
              "      <th>Speed</th>\n",
              "      <td>0.012181</td>\n",
              "      <td>0.175952</td>\n",
              "      <td>0.381240</td>\n",
              "      <td>0.015227</td>\n",
              "      <td>0.473018</td>\n",
              "      <td>0.259133</td>\n",
              "      <td>1.000000</td>\n",
              "      <td>-0.023121</td>\n",
              "      <td>0.326715</td>\n",
              "    </tr>\n",
              "    <tr>\n",
              "      <th>Generation</th>\n",
              "      <td>0.983428</td>\n",
              "      <td>0.058683</td>\n",
              "      <td>0.051451</td>\n",
              "      <td>0.042419</td>\n",
              "      <td>0.036437</td>\n",
              "      <td>0.028486</td>\n",
              "      <td>-0.023121</td>\n",
              "      <td>1.000000</td>\n",
              "      <td>0.079794</td>\n",
              "    </tr>\n",
              "    <tr>\n",
              "      <th>Legendary</th>\n",
              "      <td>0.154336</td>\n",
              "      <td>0.273620</td>\n",
              "      <td>0.345408</td>\n",
              "      <td>0.246377</td>\n",
              "      <td>0.448907</td>\n",
              "      <td>0.363937</td>\n",
              "      <td>0.326715</td>\n",
              "      <td>0.079794</td>\n",
              "      <td>1.000000</td>\n",
              "    </tr>\n",
              "  </tbody>\n",
              "</table>\n",
              "</div>"
            ],
            "text/plain": [
              "                   #        HP    Attack  ...     Speed  Generation  Legendary\n",
              "#           1.000000  0.097712  0.102664  ...  0.012181    0.983428   0.154336\n",
              "HP          0.097712  1.000000  0.422386  ...  0.175952    0.058683   0.273620\n",
              "Attack      0.102664  0.422386  1.000000  ...  0.381240    0.051451   0.345408\n",
              "Defense     0.094691  0.239622  0.438687  ...  0.015227    0.042419   0.246377\n",
              "Sp. Atk     0.089199  0.362380  0.396362  ...  0.473018    0.036437   0.448907\n",
              "Sp. Def     0.085596  0.378718  0.263990  ...  0.259133    0.028486   0.363937\n",
              "Speed       0.012181  0.175952  0.381240  ...  1.000000   -0.023121   0.326715\n",
              "Generation  0.983428  0.058683  0.051451  ... -0.023121    1.000000   0.079794\n",
              "Legendary   0.154336  0.273620  0.345408  ...  0.326715    0.079794   1.000000\n",
              "\n",
              "[9 rows x 9 columns]"
            ]
          },
          "metadata": {
            "tags": []
          },
          "execution_count": 24
        }
      ]
    },
    {
      "cell_type": "code",
      "metadata": {
        "colab": {
          "base_uri": "https://localhost:8080/"
        },
        "id": "CCkWigxE3icC",
        "outputId": "ad675637-1152-4d09-9eb6-23854a3c374f"
      },
      "source": [
        "df_pokemon['Legendary'].sum()\n",
        "#There are 65 legendary pokemon"
      ],
      "execution_count": null,
      "outputs": [
        {
          "output_type": "execute_result",
          "data": {
            "text/plain": [
              "65"
            ]
          },
          "metadata": {
            "tags": []
          },
          "execution_count": 25
        }
      ]
    },
    {
      "cell_type": "code",
      "metadata": {
        "colab": {
          "base_uri": "https://localhost:8080/"
        },
        "id": "l_zz6z8k3zdi",
        "outputId": "c53a72cc-9c8c-4885-e3b8-5752f97b00ac"
      },
      "source": [
        "df_pokemon['Type 1'].value_counts()"
      ],
      "execution_count": null,
      "outputs": [
        {
          "output_type": "execute_result",
          "data": {
            "text/plain": [
              "Water       112\n",
              "Normal       98\n",
              "Grass        70\n",
              "Bug          69\n",
              "Psychic      57\n",
              "Fire         52\n",
              "Rock         44\n",
              "Electric     44\n",
              "Ground       32\n",
              "Ghost        32\n",
              "Dragon       32\n",
              "Dark         31\n",
              "Poison       28\n",
              "Steel        27\n",
              "Fighting     27\n",
              "Ice          24\n",
              "Fairy        17\n",
              "Flying        4\n",
              "Name: Type 1, dtype: int64"
            ]
          },
          "metadata": {
            "tags": []
          },
          "execution_count": 26
        }
      ]
    },
    {
      "cell_type": "code",
      "metadata": {
        "colab": {
          "base_uri": "https://localhost:8080/"
        },
        "id": "NgPTBZBjsKpb",
        "outputId": "af6e3705-7bb5-4501-f8b3-ce74b6cc8582"
      },
      "source": [
        "len(df_pokemon['Type 1'].value_counts())\n",
        "#18 catégories de type 1"
      ],
      "execution_count": null,
      "outputs": [
        {
          "output_type": "execute_result",
          "data": {
            "text/plain": [
              "18"
            ]
          },
          "metadata": {
            "tags": []
          },
          "execution_count": 27
        }
      ]
    },
    {
      "cell_type": "code",
      "metadata": {
        "colab": {
          "base_uri": "https://localhost:8080/"
        },
        "id": "QJxlLnMyrLIt",
        "outputId": "e125689d-e221-4d93-e1ed-372bcca2d28f"
      },
      "source": [
        "len(df_pokemon['Type 1'][df_pokemon['Legendary'] == True].value_counts())\n",
        "#15 catégories ont des pokemons Légendaires"
      ],
      "execution_count": null,
      "outputs": [
        {
          "output_type": "execute_result",
          "data": {
            "text/plain": [
              "15"
            ]
          },
          "metadata": {
            "tags": []
          },
          "execution_count": 28
        }
      ]
    },
    {
      "cell_type": "code",
      "metadata": {
        "colab": {
          "base_uri": "https://localhost:8080/"
        },
        "id": "ye8Xif2i4TXj",
        "outputId": "64d161f2-1c7f-425a-953a-83a2de28d5af"
      },
      "source": [
        "df_pokemon['Type 2'].value_counts()"
      ],
      "execution_count": null,
      "outputs": [
        {
          "output_type": "execute_result",
          "data": {
            "text/plain": [
              "Flying      97\n",
              "Ground      35\n",
              "Poison      34\n",
              "Psychic     33\n",
              "Fighting    26\n",
              "Grass       25\n",
              "Fairy       23\n",
              "Steel       22\n",
              "Dark        20\n",
              "Dragon      18\n",
              "Ghost       14\n",
              "Ice         14\n",
              "Rock        14\n",
              "Water       14\n",
              "Fire        12\n",
              "Electric     6\n",
              "Normal       4\n",
              "Bug          3\n",
              "Name: Type 2, dtype: int64"
            ]
          },
          "metadata": {
            "tags": []
          },
          "execution_count": 29
        }
      ]
    },
    {
      "cell_type": "markdown",
      "metadata": {
        "id": "4qzwGU4P2lXr"
      },
      "source": [
        "#Traitement des données"
      ]
    },
    {
      "cell_type": "markdown",
      "metadata": {
        "id": "hefTUFY542KW"
      },
      "source": [
        "Type 2 : transformer en 0 ou 1 -> get dummies car plus de 2 références\n",
        "\n",
        "HP,\tAttack,\tDefense,\tSp. Atk,\tSp. Def,\tSpeed -> standardisation des données\n",
        "\n",
        "Generation : transformer en 0 ou 1 -> get dummies car plus de 2 références\n",
        "\n",
        "Legendary : transformer en 0 ou 1 -> True = 1 et False = 0"
      ]
    },
    {
      "cell_type": "code",
      "metadata": {
        "id": "mnpyl-AP0qoN"
      },
      "source": [
        "df_pokemon_c = df_pokemon.dropna(subset=['Name'])"
      ],
      "execution_count": null,
      "outputs": []
    },
    {
      "cell_type": "code",
      "metadata": {
        "id": "loRWP8uq4I-e"
      },
      "source": [
        "df_pokemon_c.reset_index(inplace=True)"
      ],
      "execution_count": null,
      "outputs": []
    },
    {
      "cell_type": "code",
      "metadata": {
        "colab": {
          "base_uri": "https://localhost:8080/"
        },
        "id": "OVWyb-Tq1CEz",
        "outputId": "03ff8120-15b0-424d-ab32-6884d8f1e376"
      },
      "source": [
        "df_pokemon_c.info()"
      ],
      "execution_count": null,
      "outputs": [
        {
          "output_type": "stream",
          "text": [
            "<class 'pandas.core.frame.DataFrame'>\n",
            "RangeIndex: 799 entries, 0 to 798\n",
            "Data columns (total 13 columns):\n",
            " #   Column      Non-Null Count  Dtype \n",
            "---  ------      --------------  ----- \n",
            " 0   index       799 non-null    int64 \n",
            " 1   #           799 non-null    int64 \n",
            " 2   Name        799 non-null    object\n",
            " 3   Type 1      799 non-null    object\n",
            " 4   Type 2      414 non-null    object\n",
            " 5   HP          799 non-null    int64 \n",
            " 6   Attack      799 non-null    int64 \n",
            " 7   Defense     799 non-null    int64 \n",
            " 8   Sp. Atk     799 non-null    int64 \n",
            " 9   Sp. Def     799 non-null    int64 \n",
            " 10  Speed       799 non-null    int64 \n",
            " 11  Generation  799 non-null    int64 \n",
            " 12  Legendary   799 non-null    bool  \n",
            "dtypes: bool(1), int64(9), object(3)\n",
            "memory usage: 75.8+ KB\n"
          ],
          "name": "stdout"
        }
      ]
    },
    {
      "cell_type": "code",
      "metadata": {
        "id": "WAJj7xiA3P_a"
      },
      "source": [
        "# #Type 1 : transformer en 0 ou 1 = devient notre cible (y)\n",
        "df_type1 = df_pokemon_c['Type 1'].str.get_dummies()"
      ],
      "execution_count": null,
      "outputs": []
    },
    {
      "cell_type": "code",
      "metadata": {
        "id": "7QYZIy546GpD"
      },
      "source": [
        "#df_type1.info()"
      ],
      "execution_count": null,
      "outputs": []
    },
    {
      "cell_type": "code",
      "metadata": {
        "id": "YyPBqEq54_YE"
      },
      "source": [
        "# #Type 2 : transformer en 0 ou 1 -> get dummies car plus de 2 références\n",
        "df_type2 = df_pokemon_c['Type 2'].str.get_dummies()"
      ],
      "execution_count": null,
      "outputs": []
    },
    {
      "cell_type": "code",
      "metadata": {
        "id": "NSgL4vhHzzNR"
      },
      "source": [
        "columns_name = df_type2.columns"
      ],
      "execution_count": null,
      "outputs": []
    },
    {
      "cell_type": "code",
      "metadata": {
        "id": "mJb4pTP9zz3-"
      },
      "source": [
        "for name in columns_name :\n",
        "  df_type2.rename(columns={name : 'T2_' + name},inplace=True)"
      ],
      "execution_count": null,
      "outputs": []
    },
    {
      "cell_type": "code",
      "metadata": {
        "id": "73LzIS4gHBYO"
      },
      "source": [
        "#df_type2.info()"
      ],
      "execution_count": null,
      "outputs": []
    },
    {
      "cell_type": "code",
      "metadata": {
        "id": "cQLLY5Ic5AVW"
      },
      "source": [
        "# #HP\tAttack\tDefense\tSp. Atk\tSp. Def\tSpeed -> standardisation des données\n",
        "nb_car = ['HP',\t'Attack',\t'Defense',\t'Sp. Atk', 'Sp. Def', 'Speed']\n",
        "X_nb_car = df_pokemon_c[nb_car]"
      ],
      "execution_count": null,
      "outputs": []
    },
    {
      "cell_type": "code",
      "metadata": {
        "id": "kitPRKvEBHAI"
      },
      "source": [
        "scaler = StandardScaler().fit(X_nb_car)"
      ],
      "execution_count": null,
      "outputs": []
    },
    {
      "cell_type": "code",
      "metadata": {
        "id": "Lb5SeBz8BDcg"
      },
      "source": [
        "X_nb_car_scaled = scaler.transform(X_nb_car)"
      ],
      "execution_count": null,
      "outputs": []
    },
    {
      "cell_type": "code",
      "metadata": {
        "id": "hY_F6Js4BVP-"
      },
      "source": [
        "df_nb_car = pd.DataFrame(X_nb_car_scaled,columns=nb_car)"
      ],
      "execution_count": null,
      "outputs": []
    },
    {
      "cell_type": "code",
      "metadata": {
        "id": "GDhhUrJGDc0w"
      },
      "source": [
        "#df_nb_car.info()"
      ],
      "execution_count": null,
      "outputs": []
    },
    {
      "cell_type": "code",
      "metadata": {
        "id": "pcpGE9yd5BY-"
      },
      "source": [
        "# #Generation : transformer en 0 ou 1 -> get dummies car plus de 2 références\n",
        "df_generation = df_pokemon_c['Generation'].astype('str').str.get_dummies()"
      ],
      "execution_count": null,
      "outputs": []
    },
    {
      "cell_type": "code",
      "metadata": {
        "id": "3jHJZ9t2AvzS"
      },
      "source": [
        "columns_name = df_generation.columns"
      ],
      "execution_count": null,
      "outputs": []
    },
    {
      "cell_type": "code",
      "metadata": {
        "id": "M3DoJ1h3A1cD"
      },
      "source": [
        "for name in columns_name :\n",
        "  df_generation.rename(columns={name : 'Generation_' + name},inplace=True)"
      ],
      "execution_count": null,
      "outputs": []
    },
    {
      "cell_type": "code",
      "metadata": {
        "id": "RSX6Sw1z7fPA"
      },
      "source": [
        "#df_generation"
      ],
      "execution_count": null,
      "outputs": []
    },
    {
      "cell_type": "code",
      "metadata": {
        "id": "ggXXubyf5Cho"
      },
      "source": [
        "# #Legendary : transformer en 0 ou 1 -> True = 1 et False = 0\n",
        "df_legendary = df_pokemon_c['Legendary'].apply(lambda x : 1 if x == True else 0)"
      ],
      "execution_count": null,
      "outputs": []
    },
    {
      "cell_type": "code",
      "metadata": {
        "id": "Xxe7FqMZ70Xa"
      },
      "source": [
        "#df_legendary"
      ],
      "execution_count": null,
      "outputs": []
    },
    {
      "cell_type": "code",
      "metadata": {
        "id": "t3spwAlq8_yP"
      },
      "source": [
        "df_pokemon_AL = pd.concat([df_pokemon_c['Name'],df_type1, df_type2, df_nb_car, df_generation, df_legendary],axis=1)"
      ],
      "execution_count": null,
      "outputs": []
    },
    {
      "cell_type": "code",
      "metadata": {
        "colab": {
          "base_uri": "https://localhost:8080/",
          "height": 234
        },
        "id": "6bqCbFVs9OAy",
        "outputId": "6dcf16d8-67b1-4adc-e715-dab0cb24096c"
      },
      "source": [
        "df_pokemon_AL.head()"
      ],
      "execution_count": null,
      "outputs": [
        {
          "output_type": "execute_result",
          "data": {
            "text/html": [
              "<div>\n",
              "<style scoped>\n",
              "    .dataframe tbody tr th:only-of-type {\n",
              "        vertical-align: middle;\n",
              "    }\n",
              "\n",
              "    .dataframe tbody tr th {\n",
              "        vertical-align: top;\n",
              "    }\n",
              "\n",
              "    .dataframe thead th {\n",
              "        text-align: right;\n",
              "    }\n",
              "</style>\n",
              "<table border=\"1\" class=\"dataframe\">\n",
              "  <thead>\n",
              "    <tr style=\"text-align: right;\">\n",
              "      <th></th>\n",
              "      <th>Name</th>\n",
              "      <th>Bug</th>\n",
              "      <th>Dark</th>\n",
              "      <th>Dragon</th>\n",
              "      <th>Electric</th>\n",
              "      <th>Fairy</th>\n",
              "      <th>Fighting</th>\n",
              "      <th>Fire</th>\n",
              "      <th>Flying</th>\n",
              "      <th>Ghost</th>\n",
              "      <th>Grass</th>\n",
              "      <th>Ground</th>\n",
              "      <th>Ice</th>\n",
              "      <th>Normal</th>\n",
              "      <th>Poison</th>\n",
              "      <th>Psychic</th>\n",
              "      <th>Rock</th>\n",
              "      <th>Steel</th>\n",
              "      <th>Water</th>\n",
              "      <th>T2_Bug</th>\n",
              "      <th>T2_Dark</th>\n",
              "      <th>T2_Dragon</th>\n",
              "      <th>T2_Electric</th>\n",
              "      <th>T2_Fairy</th>\n",
              "      <th>T2_Fighting</th>\n",
              "      <th>T2_Fire</th>\n",
              "      <th>T2_Flying</th>\n",
              "      <th>T2_Ghost</th>\n",
              "      <th>T2_Grass</th>\n",
              "      <th>T2_Ground</th>\n",
              "      <th>T2_Ice</th>\n",
              "      <th>T2_Normal</th>\n",
              "      <th>T2_Poison</th>\n",
              "      <th>T2_Psychic</th>\n",
              "      <th>T2_Rock</th>\n",
              "      <th>T2_Steel</th>\n",
              "      <th>T2_Water</th>\n",
              "      <th>HP</th>\n",
              "      <th>Attack</th>\n",
              "      <th>Defense</th>\n",
              "      <th>Sp. Atk</th>\n",
              "      <th>Sp. Def</th>\n",
              "      <th>Speed</th>\n",
              "      <th>Generation_1</th>\n",
              "      <th>Generation_2</th>\n",
              "      <th>Generation_3</th>\n",
              "      <th>Generation_4</th>\n",
              "      <th>Generation_5</th>\n",
              "      <th>Generation_6</th>\n",
              "      <th>Legendary</th>\n",
              "    </tr>\n",
              "  </thead>\n",
              "  <tbody>\n",
              "    <tr>\n",
              "      <th>0</th>\n",
              "      <td>Bulbasaur</td>\n",
              "      <td>0</td>\n",
              "      <td>0</td>\n",
              "      <td>0</td>\n",
              "      <td>0</td>\n",
              "      <td>0</td>\n",
              "      <td>0</td>\n",
              "      <td>0</td>\n",
              "      <td>0</td>\n",
              "      <td>0</td>\n",
              "      <td>1</td>\n",
              "      <td>0</td>\n",
              "      <td>0</td>\n",
              "      <td>0</td>\n",
              "      <td>0</td>\n",
              "      <td>0</td>\n",
              "      <td>0</td>\n",
              "      <td>0</td>\n",
              "      <td>0</td>\n",
              "      <td>0</td>\n",
              "      <td>0</td>\n",
              "      <td>0</td>\n",
              "      <td>0</td>\n",
              "      <td>0</td>\n",
              "      <td>0</td>\n",
              "      <td>0</td>\n",
              "      <td>0</td>\n",
              "      <td>0</td>\n",
              "      <td>0</td>\n",
              "      <td>0</td>\n",
              "      <td>0</td>\n",
              "      <td>0</td>\n",
              "      <td>1</td>\n",
              "      <td>0</td>\n",
              "      <td>0</td>\n",
              "      <td>0</td>\n",
              "      <td>0</td>\n",
              "      <td>-0.950257</td>\n",
              "      <td>-0.923697</td>\n",
              "      <td>-0.797309</td>\n",
              "      <td>-0.239494</td>\n",
              "      <td>-0.248120</td>\n",
              "      <td>-0.800275</td>\n",
              "      <td>1</td>\n",
              "      <td>0</td>\n",
              "      <td>0</td>\n",
              "      <td>0</td>\n",
              "      <td>0</td>\n",
              "      <td>0</td>\n",
              "      <td>0</td>\n",
              "    </tr>\n",
              "    <tr>\n",
              "      <th>1</th>\n",
              "      <td>Ivysaur</td>\n",
              "      <td>0</td>\n",
              "      <td>0</td>\n",
              "      <td>0</td>\n",
              "      <td>0</td>\n",
              "      <td>0</td>\n",
              "      <td>0</td>\n",
              "      <td>0</td>\n",
              "      <td>0</td>\n",
              "      <td>0</td>\n",
              "      <td>1</td>\n",
              "      <td>0</td>\n",
              "      <td>0</td>\n",
              "      <td>0</td>\n",
              "      <td>0</td>\n",
              "      <td>0</td>\n",
              "      <td>0</td>\n",
              "      <td>0</td>\n",
              "      <td>0</td>\n",
              "      <td>0</td>\n",
              "      <td>0</td>\n",
              "      <td>0</td>\n",
              "      <td>0</td>\n",
              "      <td>0</td>\n",
              "      <td>0</td>\n",
              "      <td>0</td>\n",
              "      <td>0</td>\n",
              "      <td>0</td>\n",
              "      <td>0</td>\n",
              "      <td>0</td>\n",
              "      <td>0</td>\n",
              "      <td>0</td>\n",
              "      <td>1</td>\n",
              "      <td>0</td>\n",
              "      <td>0</td>\n",
              "      <td>0</td>\n",
              "      <td>0</td>\n",
              "      <td>-0.362810</td>\n",
              "      <td>-0.523010</td>\n",
              "      <td>-0.348298</td>\n",
              "      <td>0.218953</td>\n",
              "      <td>0.290890</td>\n",
              "      <td>-0.283837</td>\n",
              "      <td>1</td>\n",
              "      <td>0</td>\n",
              "      <td>0</td>\n",
              "      <td>0</td>\n",
              "      <td>0</td>\n",
              "      <td>0</td>\n",
              "      <td>0</td>\n",
              "    </tr>\n",
              "    <tr>\n",
              "      <th>2</th>\n",
              "      <td>Venusaur</td>\n",
              "      <td>0</td>\n",
              "      <td>0</td>\n",
              "      <td>0</td>\n",
              "      <td>0</td>\n",
              "      <td>0</td>\n",
              "      <td>0</td>\n",
              "      <td>0</td>\n",
              "      <td>0</td>\n",
              "      <td>0</td>\n",
              "      <td>1</td>\n",
              "      <td>0</td>\n",
              "      <td>0</td>\n",
              "      <td>0</td>\n",
              "      <td>0</td>\n",
              "      <td>0</td>\n",
              "      <td>0</td>\n",
              "      <td>0</td>\n",
              "      <td>0</td>\n",
              "      <td>0</td>\n",
              "      <td>0</td>\n",
              "      <td>0</td>\n",
              "      <td>0</td>\n",
              "      <td>0</td>\n",
              "      <td>0</td>\n",
              "      <td>0</td>\n",
              "      <td>0</td>\n",
              "      <td>0</td>\n",
              "      <td>0</td>\n",
              "      <td>0</td>\n",
              "      <td>0</td>\n",
              "      <td>0</td>\n",
              "      <td>1</td>\n",
              "      <td>0</td>\n",
              "      <td>0</td>\n",
              "      <td>0</td>\n",
              "      <td>0</td>\n",
              "      <td>0.420452</td>\n",
              "      <td>0.093431</td>\n",
              "      <td>0.293146</td>\n",
              "      <td>0.830216</td>\n",
              "      <td>1.009569</td>\n",
              "      <td>0.404748</td>\n",
              "      <td>1</td>\n",
              "      <td>0</td>\n",
              "      <td>0</td>\n",
              "      <td>0</td>\n",
              "      <td>0</td>\n",
              "      <td>0</td>\n",
              "      <td>0</td>\n",
              "    </tr>\n",
              "    <tr>\n",
              "      <th>3</th>\n",
              "      <td>Mega Venusaur</td>\n",
              "      <td>0</td>\n",
              "      <td>0</td>\n",
              "      <td>0</td>\n",
              "      <td>0</td>\n",
              "      <td>0</td>\n",
              "      <td>0</td>\n",
              "      <td>0</td>\n",
              "      <td>0</td>\n",
              "      <td>0</td>\n",
              "      <td>1</td>\n",
              "      <td>0</td>\n",
              "      <td>0</td>\n",
              "      <td>0</td>\n",
              "      <td>0</td>\n",
              "      <td>0</td>\n",
              "      <td>0</td>\n",
              "      <td>0</td>\n",
              "      <td>0</td>\n",
              "      <td>0</td>\n",
              "      <td>0</td>\n",
              "      <td>0</td>\n",
              "      <td>0</td>\n",
              "      <td>0</td>\n",
              "      <td>0</td>\n",
              "      <td>0</td>\n",
              "      <td>0</td>\n",
              "      <td>0</td>\n",
              "      <td>0</td>\n",
              "      <td>0</td>\n",
              "      <td>0</td>\n",
              "      <td>0</td>\n",
              "      <td>1</td>\n",
              "      <td>0</td>\n",
              "      <td>0</td>\n",
              "      <td>0</td>\n",
              "      <td>0</td>\n",
              "      <td>0.420452</td>\n",
              "      <td>0.648227</td>\n",
              "      <td>1.576034</td>\n",
              "      <td>1.502605</td>\n",
              "      <td>1.728248</td>\n",
              "      <td>0.404748</td>\n",
              "      <td>1</td>\n",
              "      <td>0</td>\n",
              "      <td>0</td>\n",
              "      <td>0</td>\n",
              "      <td>0</td>\n",
              "      <td>0</td>\n",
              "      <td>0</td>\n",
              "    </tr>\n",
              "    <tr>\n",
              "      <th>4</th>\n",
              "      <td>Charmander</td>\n",
              "      <td>0</td>\n",
              "      <td>0</td>\n",
              "      <td>0</td>\n",
              "      <td>0</td>\n",
              "      <td>0</td>\n",
              "      <td>0</td>\n",
              "      <td>1</td>\n",
              "      <td>0</td>\n",
              "      <td>0</td>\n",
              "      <td>0</td>\n",
              "      <td>0</td>\n",
              "      <td>0</td>\n",
              "      <td>0</td>\n",
              "      <td>0</td>\n",
              "      <td>0</td>\n",
              "      <td>0</td>\n",
              "      <td>0</td>\n",
              "      <td>0</td>\n",
              "      <td>0</td>\n",
              "      <td>0</td>\n",
              "      <td>0</td>\n",
              "      <td>0</td>\n",
              "      <td>0</td>\n",
              "      <td>0</td>\n",
              "      <td>0</td>\n",
              "      <td>0</td>\n",
              "      <td>0</td>\n",
              "      <td>0</td>\n",
              "      <td>0</td>\n",
              "      <td>0</td>\n",
              "      <td>0</td>\n",
              "      <td>0</td>\n",
              "      <td>0</td>\n",
              "      <td>0</td>\n",
              "      <td>0</td>\n",
              "      <td>0</td>\n",
              "      <td>-1.185236</td>\n",
              "      <td>-0.831231</td>\n",
              "      <td>-0.989742</td>\n",
              "      <td>-0.392310</td>\n",
              "      <td>-0.787129</td>\n",
              "      <td>-0.111690</td>\n",
              "      <td>1</td>\n",
              "      <td>0</td>\n",
              "      <td>0</td>\n",
              "      <td>0</td>\n",
              "      <td>0</td>\n",
              "      <td>0</td>\n",
              "      <td>0</td>\n",
              "    </tr>\n",
              "  </tbody>\n",
              "</table>\n",
              "</div>"
            ],
            "text/plain": [
              "            Name  Bug  Dark  ...  Generation_5  Generation_6  Legendary\n",
              "0      Bulbasaur    0     0  ...             0             0          0\n",
              "1        Ivysaur    0     0  ...             0             0          0\n",
              "2       Venusaur    0     0  ...             0             0          0\n",
              "3  Mega Venusaur    0     0  ...             0             0          0\n",
              "4     Charmander    0     0  ...             0             0          0\n",
              "\n",
              "[5 rows x 50 columns]"
            ]
          },
          "metadata": {
            "tags": []
          },
          "execution_count": 270
        }
      ]
    },
    {
      "cell_type": "markdown",
      "metadata": {
        "id": "PieHvyDN9g-n"
      },
      "source": [
        "#Création du modèle Knn sans les légendaires"
      ]
    },
    {
      "cell_type": "markdown",
      "metadata": {
        "id": "pWWWM73qCE6X"
      },
      "source": [
        "Je retire les légendaires du modèle car ils ne doivent pas ressortir dans les propositions de mon modèle"
      ]
    },
    {
      "cell_type": "code",
      "metadata": {
        "colab": {
          "base_uri": "https://localhost:8080/"
        },
        "id": "cHmoPJrv9qU5",
        "outputId": "cfa394d3-021d-47a7-b901-35896c06d6c3"
      },
      "source": [
        "df_pokemon_AL_without_lengendary = df_pokemon_AL[df_pokemon_AL['Legendary'] == 0]\n",
        "df_pokemon_AL_without_lengendary.drop(columns='Legendary',inplace=True)"
      ],
      "execution_count": null,
      "outputs": [
        {
          "output_type": "stream",
          "text": [
            "/usr/local/lib/python3.6/dist-packages/pandas/core/frame.py:4174: SettingWithCopyWarning: \n",
            "A value is trying to be set on a copy of a slice from a DataFrame\n",
            "\n",
            "See the caveats in the documentation: https://pandas.pydata.org/pandas-docs/stable/user_guide/indexing.html#returning-a-view-versus-a-copy\n",
            "  errors=errors,\n"
          ],
          "name": "stderr"
        }
      ]
    },
    {
      "cell_type": "code",
      "metadata": {
        "id": "0bb7zBjQ_3d0"
      },
      "source": [
        "#df_pokemon_AL_without_lengendary.info()"
      ],
      "execution_count": null,
      "outputs": []
    },
    {
      "cell_type": "code",
      "metadata": {
        "id": "_nByu4JL8Ez2"
      },
      "source": [
        "X_list = list(df_pokemon_AL_without_lengendary.columns)\n",
        "X_list.remove('Name')"
      ],
      "execution_count": null,
      "outputs": []
    },
    {
      "cell_type": "code",
      "metadata": {
        "id": "r-LnybzR93BV"
      },
      "source": [
        "#X_list"
      ],
      "execution_count": null,
      "outputs": []
    },
    {
      "cell_type": "code",
      "metadata": {
        "id": "Q_TnNr24-JMx"
      },
      "source": [
        "X = df_pokemon_AL_without_lengendary[X_list]\n",
        "y = df_pokemon_AL_without_lengendary['Name']"
      ],
      "execution_count": null,
      "outputs": []
    },
    {
      "cell_type": "code",
      "metadata": {
        "id": "cnBSwVqF-LmK"
      },
      "source": [
        "#je cherche le pokemon le plus proche, je ne cherche pas à classifier en tant que tel mon pokemon.\n",
        "##j'ai donc seulement besoin du plus proche voisin\n",
        "model_KNN = KNeighborsClassifier(n_neighbors=1,weights='distance')"
      ],
      "execution_count": null,
      "outputs": []
    },
    {
      "cell_type": "code",
      "metadata": {
        "colab": {
          "base_uri": "https://localhost:8080/"
        },
        "id": "dxYUytNd-Our",
        "outputId": "f0a002e9-2bcf-4597-cae4-1f2cd30095c3"
      },
      "source": [
        "model_KNN.fit(X, y)"
      ],
      "execution_count": null,
      "outputs": [
        {
          "output_type": "execute_result",
          "data": {
            "text/plain": [
              "KNeighborsClassifier(algorithm='auto', leaf_size=30, metric='minkowski',\n",
              "                     metric_params=None, n_jobs=None, n_neighbors=1, p=2,\n",
              "                     weights='distance')"
            ]
          },
          "metadata": {
            "tags": []
          },
          "execution_count": 326
        }
      ]
    },
    {
      "cell_type": "code",
      "metadata": {
        "id": "XGhOhoLx-RHh"
      },
      "source": [
        "def substitut_pokemon(poke_source):\n",
        "  X_poke_source = df_pokemon_AL[X_list][df_pokemon_AL['Name'] == poke_source]\n",
        "  list_X_poke_source = list(X_poke_source.iloc[0])\n",
        "  distance, classement = model_KNN.kneighbors([list_X_poke_source])\n",
        "  classement_condition =  classement[0]\n",
        "  df_classement = df_pokemon_AL_without_lengendary.iloc[classement_condition]\n",
        "  df_classement.reset_index(drop=True, inplace=True)\n",
        "  df_classement['Classement'] = [1] #10,9,8,7,6,5,4,3, 2,\n",
        "  pokemon_substitut = df_classement['Name'].iloc[0]\n",
        "  return pokemon_substitut"
      ],
      "execution_count": null,
      "outputs": []
    },
    {
      "cell_type": "code",
      "metadata": {
        "colab": {
          "base_uri": "https://localhost:8080/",
          "height": 135
        },
        "id": "szOxRAxA-WAj",
        "outputId": "0d5ed305-31b6-4c2e-f1bb-bd07944c5883"
      },
      "source": [
        "substitut_pokemon('Lugia')"
      ],
      "execution_count": null,
      "outputs": [
        {
          "output_type": "stream",
          "text": [
            "/usr/local/lib/python3.6/dist-packages/ipykernel_launcher.py:8: SettingWithCopyWarning: \n",
            "A value is trying to be set on a copy of a slice from a DataFrame.\n",
            "Try using .loc[row_indexer,col_indexer] = value instead\n",
            "\n",
            "See the caveats in the documentation: https://pandas.pydata.org/pandas-docs/stable/user_guide/indexing.html#returning-a-view-versus-a-copy\n",
            "  \n"
          ],
          "name": "stderr"
        },
        {
          "output_type": "execute_result",
          "data": {
            "application/vnd.google.colaboratory.intrinsic+json": {
              "type": "string"
            },
            "text/plain": [
              "'Cresselia'"
            ]
          },
          "metadata": {
            "tags": []
          },
          "execution_count": 330
        }
      ]
    },
    {
      "cell_type": "code",
      "metadata": {
        "colab": {
          "base_uri": "https://localhost:8080/"
        },
        "id": "fv15zO3FDCv2",
        "outputId": "ae36ce4c-c112-4b2c-a81f-4e29f275ccdd"
      },
      "source": [
        "print('The best subsitute for the lengendary pokemon', pokemon, 'is', substitut_pokemon('Lugia'), '.')"
      ],
      "execution_count": null,
      "outputs": [
        {
          "output_type": "stream",
          "text": [
            "The best subsitute for the lengendary pokemon Palkia is Cresselia .\n"
          ],
          "name": "stdout"
        },
        {
          "output_type": "stream",
          "text": [
            "/usr/local/lib/python3.6/dist-packages/ipykernel_launcher.py:8: SettingWithCopyWarning: \n",
            "A value is trying to be set on a copy of a slice from a DataFrame.\n",
            "Try using .loc[row_indexer,col_indexer] = value instead\n",
            "\n",
            "See the caveats in the documentation: https://pandas.pydata.org/pandas-docs/stable/user_guide/indexing.html#returning-a-view-versus-a-copy\n",
            "  \n"
          ],
          "name": "stderr"
        }
      ]
    },
    {
      "cell_type": "code",
      "metadata": {
        "id": "VqDgf6JhCOv9"
      },
      "source": [
        "list_replace_pokemon = ['Mewtwo', 'Lugia', 'Rayquaza', 'Giratina Altered Forme', 'Giratina Origin Forme', 'Dialga', 'Palkia']"
      ],
      "execution_count": null,
      "outputs": []
    },
    {
      "cell_type": "code",
      "metadata": {
        "id": "67fZ_h7eDiiU"
      },
      "source": [
        "#substitut_pokemon('Dialga')"
      ],
      "execution_count": null,
      "outputs": []
    },
    {
      "cell_type": "code",
      "metadata": {
        "colab": {
          "base_uri": "https://localhost:8080/"
        },
        "id": "FdaFrIXcCbzu",
        "outputId": "b1de6e88-f28e-471a-b452-26433793f22d"
      },
      "source": [
        "for pokemon in list_replace_pokemon :\n",
        "  print('The best subsitute for the lengendary pokemon', pokemon, 'is', substitut_pokemon(pokemon), '.')\n",
        "print()"
      ],
      "execution_count": null,
      "outputs": [
        {
          "output_type": "stream",
          "text": [
            "The best subsitute for the lengendary pokemon Mewtwo is Mew .\n",
            "The best subsitute for the lengendary pokemon Lugia is Cresselia .\n",
            "The best subsitute for the lengendary pokemon Rayquaza is Salamence .\n",
            "The best subsitute for the lengendary pokemon Giratina Altered Forme is Cresselia .\n",
            "The best subsitute for the lengendary pokemon Giratina Origin Forme is Manaphy .\n",
            "The best subsitute for the lengendary pokemon Dialga is Mega Charizard X .\n",
            "The best subsitute for the lengendary pokemon Palkia is Manaphy .\n",
            "\n"
          ],
          "name": "stdout"
        },
        {
          "output_type": "stream",
          "text": [
            "/usr/local/lib/python3.6/dist-packages/ipykernel_launcher.py:8: SettingWithCopyWarning: \n",
            "A value is trying to be set on a copy of a slice from a DataFrame.\n",
            "Try using .loc[row_indexer,col_indexer] = value instead\n",
            "\n",
            "See the caveats in the documentation: https://pandas.pydata.org/pandas-docs/stable/user_guide/indexing.html#returning-a-view-versus-a-copy\n",
            "  \n",
            "/usr/local/lib/python3.6/dist-packages/ipykernel_launcher.py:8: SettingWithCopyWarning: \n",
            "A value is trying to be set on a copy of a slice from a DataFrame.\n",
            "Try using .loc[row_indexer,col_indexer] = value instead\n",
            "\n",
            "See the caveats in the documentation: https://pandas.pydata.org/pandas-docs/stable/user_guide/indexing.html#returning-a-view-versus-a-copy\n",
            "  \n",
            "/usr/local/lib/python3.6/dist-packages/ipykernel_launcher.py:8: SettingWithCopyWarning: \n",
            "A value is trying to be set on a copy of a slice from a DataFrame.\n",
            "Try using .loc[row_indexer,col_indexer] = value instead\n",
            "\n",
            "See the caveats in the documentation: https://pandas.pydata.org/pandas-docs/stable/user_guide/indexing.html#returning-a-view-versus-a-copy\n",
            "  \n",
            "/usr/local/lib/python3.6/dist-packages/ipykernel_launcher.py:8: SettingWithCopyWarning: \n",
            "A value is trying to be set on a copy of a slice from a DataFrame.\n",
            "Try using .loc[row_indexer,col_indexer] = value instead\n",
            "\n",
            "See the caveats in the documentation: https://pandas.pydata.org/pandas-docs/stable/user_guide/indexing.html#returning-a-view-versus-a-copy\n",
            "  \n",
            "/usr/local/lib/python3.6/dist-packages/ipykernel_launcher.py:8: SettingWithCopyWarning: \n",
            "A value is trying to be set on a copy of a slice from a DataFrame.\n",
            "Try using .loc[row_indexer,col_indexer] = value instead\n",
            "\n",
            "See the caveats in the documentation: https://pandas.pydata.org/pandas-docs/stable/user_guide/indexing.html#returning-a-view-versus-a-copy\n",
            "  \n",
            "/usr/local/lib/python3.6/dist-packages/ipykernel_launcher.py:8: SettingWithCopyWarning: \n",
            "A value is trying to be set on a copy of a slice from a DataFrame.\n",
            "Try using .loc[row_indexer,col_indexer] = value instead\n",
            "\n",
            "See the caveats in the documentation: https://pandas.pydata.org/pandas-docs/stable/user_guide/indexing.html#returning-a-view-versus-a-copy\n",
            "  \n",
            "/usr/local/lib/python3.6/dist-packages/ipykernel_launcher.py:8: SettingWithCopyWarning: \n",
            "A value is trying to be set on a copy of a slice from a DataFrame.\n",
            "Try using .loc[row_indexer,col_indexer] = value instead\n",
            "\n",
            "See the caveats in the documentation: https://pandas.pydata.org/pandas-docs/stable/user_guide/indexing.html#returning-a-view-versus-a-copy\n",
            "  \n"
          ],
          "name": "stderr"
        }
      ]
    }
  ]
}